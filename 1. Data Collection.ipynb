{
 "cells": [
  {
   "cell_type": "markdown",
   "metadata": {},
   "source": [
    "# Data Collection and Early Data Processing"
   ]
  },
  {
   "cell_type": "markdown",
   "metadata": {},
   "source": [
    "## Data Collection Goal\n",
    "\n",
    "The goal is to first collect around 1,000 reviews for each rating from 1-star to 5-star. A preliminary search was conducted on Amazon's website for 'masks' and related keywords such as 'covid', 'N95', 'medical', and 'reusable'.\n",
    "\n",
    "While there are many pages of products available in the search result, only a handful had a reasonable number of reviews (m>500). Some products were duplicates in the search results, so a manual inspection is required.\n",
    "\n",
    "The following products were selected to be sampled based on the number of reviews available. Variation of mask characteristics and features was also taken into account.\n",
    "\n",
    "| PRODUCT ID | PRODUCT NAME |\n",
    "| :---------- | :------------ |\n",
    "| B088825ZVV | Weddingstar 3-Ply Adult Washable Cloth Face Mask Reusable and Adjustable with Filter Pocket|\n",
    "| B08DPTLW6G | Black-Face-Mask-Pack-Comfortable|\n",
    "| B088K9GDN5 | THINKA-PROCEDURE-MASK-EARLOOPS-50pcs|\n",
    "| B0891VVHN1 | Case-Mate-Washable-Reusable-Cotton-Filter|\n",
    "| B088C2WD5F | EnerPlex-Premium-3-Ply-Reusable-Face|\n",
    "| B08HWVSSPZ | Designer-Female-Fashion-Cotton-Fabric |\n",
    "| B08B9BQNSY | Levis-Re-Usable-Reversible-Bandana-Caviar |\n",
    "| B08P56BK1J | Under-Armour-unisex-adult-Sports-Mask |\n",
    "| B086R5TCNK | Windproof-Dustproof-Breathable-Reusable-Outdoor |\n",
    "| B088JY3QQD | EnerPlex-Premium-Kids-3-Ply-Reusable |\n",
    "| B088YV7VCF | Gildan-Reusable-Everyday-2-Layer-Cotton |\n",
    "| B08793KQ18 | TRAVLEISURE-ADJUSTABLE-REUSABLE-WASHABLE-FACE |\n",
    "| B07Y2XFQMM | FCY-Balaclava-Winter-Fleece-Windproof |\n",
    "| B088CV63D6 | EnerPlex-Premium-3-Ply-Reusable-Face |\n",
    "| B0884VL4ZR | Perry-Ellis-Reusable-Rounded-Assorted |\n",
    "| B088YS4738 | Fashion-Protective-Washable-Reusable-Elastic |\n",
    "| B084TJDDL1 | AstroAI-Reusable-Dust-Face-Filters |"
   ]
  },
  {
   "cell_type": "markdown",
   "metadata": {},
   "source": [
    "## Features\n",
    "\n",
    "The features necessary for sentiment analysis are:\n",
    "1. rating (ordinal, from 1 to 5)\n",
    "2. title (string)\n",
    "3. review (string)\n",
    "\n",
    "Date and location were features readily available. They were scraped for EDA (exploratory data analysis)."
   ]
  },
  {
   "cell_type": "markdown",
   "metadata": {},
   "source": [
    "## Webscraping Using Selenium\n",
    "\n",
    "Selenium WebDriver is a collection of open-source APIs used to automate the testing of a web application. This tool was selected over other methods for its ease of use. I have tried using scrappy spider in the past, and found through experience that Amazon does not like to be scraped. It will detect bots and block the IP. While a VPN could be used, it unnecessarily complicates the data collection process.\n",
    "\n",
    "The review section for each product consists of ten reviews per page. Each review consists of a star rating, a review title, a review text, a location, and the date of the review.\n",
    "\n",
    "The entire process took around 3.5 hours to complete, including manually selecting products.\n",
    "\n",
    "The webscraping was performed on February 8th, 2021. Products and reviews may change."
   ]
  },
  {
   "cell_type": "markdown",
   "metadata": {},
   "source": [
    "## Imports"
   ]
  },
  {
   "cell_type": "code",
   "execution_count": 1,
   "metadata": {},
   "outputs": [],
   "source": [
    "import pandas as pd\n",
    "import seaborn as sns\n",
    "import matplotlib.pyplot as plt\n",
    "import numpy as np\n",
    "\n",
    "import selenium\n",
    "from selenium import webdriver\n",
    "from selenium.webdriver.support.ui import Select\n",
    "from selenium.webdriver.common.keys import Keys\n",
    "from selenium.common.exceptions import NoSuchElementException\n",
    "\n",
    "import time #pausing\n",
    "import datetime #timestamp log\n",
    "import os #file management\n",
    "import json \n",
    "import csv"
   ]
  },
  {
   "cell_type": "markdown",
   "metadata": {},
   "source": [
    "## Chrome WebDriver\n",
    "\n",
    "Using chrome webdriver for automation of scraping in conjunction with manual product selection. "
   ]
  },
  {
   "cell_type": "code",
   "execution_count": 66,
   "metadata": {},
   "outputs": [],
   "source": [
    "driver = webdriver.Chrome();\n",
    "driver.get(\"https://www.amazon.ca/Weddingstar-Washable-Reusable-Adjustable-Protective/product-reviews/B088825ZVV/ref=cm_cr_getr_d_paging_btm_prev_\" + str(pg+1) + \"?pageNumber=\" + str(pg+1))"
   ]
  },
  {
   "cell_type": "markdown",
   "metadata": {},
   "source": [
    "## Web Scraping\n",
    "\n",
    "1. For each page, identify the 10 reviews. \n",
    "2. Scrape the title, date, location, review, and rating. \n",
    "3. Save in CSV file as 'review_raw.csv'. \n",
    "4. Find the button for the next page.\n",
    "5. Wait for 3 seconds for the page to load.\n",
    "6. Repeat the process until the 'next page' button is no longer available."
   ]
  },
  {
   "cell_type": "code",
   "execution_count": 191,
   "metadata": {
    "collapsed": true
   },
   "outputs": [
    {
     "name": "stdout",
     "output_type": "stream",
     "text": [
      "page:  0\n",
      "page:  1\n",
      "page:  2\n",
      "page:  3\n",
      "page:  4\n",
      "page:  5\n",
      "page:  6\n",
      "page:  7\n",
      "page:  8\n",
      "page:  9\n",
      "page:  10\n",
      "page:  11\n",
      "page:  12\n",
      "page:  13\n",
      "page:  14\n",
      "page:  15\n",
      "page:  16\n",
      "page:  17\n",
      "page:  18\n",
      "page:  19\n",
      "page:  20\n",
      "page:  21\n",
      "page:  22\n",
      "page:  23\n",
      "page:  24\n",
      "page:  25\n",
      "page:  26\n",
      "page:  27\n",
      "page:  28\n",
      "page:  29\n"
     ]
    },
    {
     "ename": "NoSuchElementException",
     "evalue": "Message: no such element: Unable to locate element: {\"method\":\"partial link text\",\"selector\":\"Next page\"}\n  (Session info: chrome=88.0.4324.146)\n",
     "output_type": "error",
     "traceback": [
      "\u001b[0;31m---------------------------------------------------------------------------\u001b[0m",
      "\u001b[0;31mNoSuchElementException\u001b[0m                    Traceback (most recent call last)",
      "\u001b[0;32m<ipython-input-191-e865dd8c34b2>\u001b[0m in \u001b[0;36m<module>\u001b[0;34m\u001b[0m\n\u001b[1;32m     18\u001b[0m             \u001b[0mwriter\u001b[0m\u001b[0;34m.\u001b[0m\u001b[0mwriterow\u001b[0m\u001b[0;34m(\u001b[0m\u001b[0mfields\u001b[0m\u001b[0;34m)\u001b[0m\u001b[0;34m\u001b[0m\u001b[0;34m\u001b[0m\u001b[0m\n\u001b[1;32m     19\u001b[0m \u001b[0;34m\u001b[0m\u001b[0m\n\u001b[0;32m---> 20\u001b[0;31m     \u001b[0mdriver\u001b[0m\u001b[0;34m.\u001b[0m\u001b[0mfind_element_by_partial_link_text\u001b[0m\u001b[0;34m(\u001b[0m\u001b[0;34m'Next page'\u001b[0m\u001b[0;34m)\u001b[0m\u001b[0;34m.\u001b[0m\u001b[0mclick\u001b[0m\u001b[0;34m(\u001b[0m\u001b[0;34m)\u001b[0m\u001b[0;34m\u001b[0m\u001b[0;34m\u001b[0m\u001b[0m\n\u001b[0m\u001b[1;32m     21\u001b[0m \u001b[0;34m\u001b[0m\u001b[0m\n\u001b[1;32m     22\u001b[0m     \u001b[0mtime\u001b[0m\u001b[0;34m.\u001b[0m\u001b[0msleep\u001b[0m\u001b[0;34m(\u001b[0m\u001b[0;36m4\u001b[0m\u001b[0;34m)\u001b[0m\u001b[0;34m\u001b[0m\u001b[0;34m\u001b[0m\u001b[0m\n",
      "\u001b[0;32m/Library/Frameworks/Python.framework/Versions/3.8/lib/python3.8/site-packages/selenium/webdriver/remote/webdriver.py\u001b[0m in \u001b[0;36mfind_element_by_partial_link_text\u001b[0;34m(self, link_text)\u001b[0m\n\u001b[1;32m    460\u001b[0m             \u001b[0melement\u001b[0m \u001b[0;34m=\u001b[0m \u001b[0mdriver\u001b[0m\u001b[0;34m.\u001b[0m\u001b[0mfind_element_by_partial_link_text\u001b[0m\u001b[0;34m(\u001b[0m\u001b[0;34m'Sign'\u001b[0m\u001b[0;34m)\u001b[0m\u001b[0;34m\u001b[0m\u001b[0;34m\u001b[0m\u001b[0m\n\u001b[1;32m    461\u001b[0m         \"\"\"\n\u001b[0;32m--> 462\u001b[0;31m         \u001b[0;32mreturn\u001b[0m \u001b[0mself\u001b[0m\u001b[0;34m.\u001b[0m\u001b[0mfind_element\u001b[0m\u001b[0;34m(\u001b[0m\u001b[0mby\u001b[0m\u001b[0;34m=\u001b[0m\u001b[0mBy\u001b[0m\u001b[0;34m.\u001b[0m\u001b[0mPARTIAL_LINK_TEXT\u001b[0m\u001b[0;34m,\u001b[0m \u001b[0mvalue\u001b[0m\u001b[0;34m=\u001b[0m\u001b[0mlink_text\u001b[0m\u001b[0;34m)\u001b[0m\u001b[0;34m\u001b[0m\u001b[0;34m\u001b[0m\u001b[0m\n\u001b[0m\u001b[1;32m    463\u001b[0m \u001b[0;34m\u001b[0m\u001b[0m\n\u001b[1;32m    464\u001b[0m     \u001b[0;32mdef\u001b[0m \u001b[0mfind_elements_by_partial_link_text\u001b[0m\u001b[0;34m(\u001b[0m\u001b[0mself\u001b[0m\u001b[0;34m,\u001b[0m \u001b[0mlink_text\u001b[0m\u001b[0;34m)\u001b[0m\u001b[0;34m:\u001b[0m\u001b[0;34m\u001b[0m\u001b[0;34m\u001b[0m\u001b[0m\n",
      "\u001b[0;32m/Library/Frameworks/Python.framework/Versions/3.8/lib/python3.8/site-packages/selenium/webdriver/remote/webdriver.py\u001b[0m in \u001b[0;36mfind_element\u001b[0;34m(self, by, value)\u001b[0m\n\u001b[1;32m    974\u001b[0m                 \u001b[0mby\u001b[0m \u001b[0;34m=\u001b[0m \u001b[0mBy\u001b[0m\u001b[0;34m.\u001b[0m\u001b[0mCSS_SELECTOR\u001b[0m\u001b[0;34m\u001b[0m\u001b[0;34m\u001b[0m\u001b[0m\n\u001b[1;32m    975\u001b[0m                 \u001b[0mvalue\u001b[0m \u001b[0;34m=\u001b[0m \u001b[0;34m'[name=\"%s\"]'\u001b[0m \u001b[0;34m%\u001b[0m \u001b[0mvalue\u001b[0m\u001b[0;34m\u001b[0m\u001b[0;34m\u001b[0m\u001b[0m\n\u001b[0;32m--> 976\u001b[0;31m         return self.execute(Command.FIND_ELEMENT, {\n\u001b[0m\u001b[1;32m    977\u001b[0m             \u001b[0;34m'using'\u001b[0m\u001b[0;34m:\u001b[0m \u001b[0mby\u001b[0m\u001b[0;34m,\u001b[0m\u001b[0;34m\u001b[0m\u001b[0;34m\u001b[0m\u001b[0m\n\u001b[1;32m    978\u001b[0m             'value': value})['value']\n",
      "\u001b[0;32m/Library/Frameworks/Python.framework/Versions/3.8/lib/python3.8/site-packages/selenium/webdriver/remote/webdriver.py\u001b[0m in \u001b[0;36mexecute\u001b[0;34m(self, driver_command, params)\u001b[0m\n\u001b[1;32m    319\u001b[0m         \u001b[0mresponse\u001b[0m \u001b[0;34m=\u001b[0m \u001b[0mself\u001b[0m\u001b[0;34m.\u001b[0m\u001b[0mcommand_executor\u001b[0m\u001b[0;34m.\u001b[0m\u001b[0mexecute\u001b[0m\u001b[0;34m(\u001b[0m\u001b[0mdriver_command\u001b[0m\u001b[0;34m,\u001b[0m \u001b[0mparams\u001b[0m\u001b[0;34m)\u001b[0m\u001b[0;34m\u001b[0m\u001b[0;34m\u001b[0m\u001b[0m\n\u001b[1;32m    320\u001b[0m         \u001b[0;32mif\u001b[0m \u001b[0mresponse\u001b[0m\u001b[0;34m:\u001b[0m\u001b[0;34m\u001b[0m\u001b[0;34m\u001b[0m\u001b[0m\n\u001b[0;32m--> 321\u001b[0;31m             \u001b[0mself\u001b[0m\u001b[0;34m.\u001b[0m\u001b[0merror_handler\u001b[0m\u001b[0;34m.\u001b[0m\u001b[0mcheck_response\u001b[0m\u001b[0;34m(\u001b[0m\u001b[0mresponse\u001b[0m\u001b[0;34m)\u001b[0m\u001b[0;34m\u001b[0m\u001b[0;34m\u001b[0m\u001b[0m\n\u001b[0m\u001b[1;32m    322\u001b[0m             response['value'] = self._unwrap_value(\n\u001b[1;32m    323\u001b[0m                 response.get('value', None))\n",
      "\u001b[0;32m/Library/Frameworks/Python.framework/Versions/3.8/lib/python3.8/site-packages/selenium/webdriver/remote/errorhandler.py\u001b[0m in \u001b[0;36mcheck_response\u001b[0;34m(self, response)\u001b[0m\n\u001b[1;32m    240\u001b[0m                 \u001b[0malert_text\u001b[0m \u001b[0;34m=\u001b[0m \u001b[0mvalue\u001b[0m\u001b[0;34m[\u001b[0m\u001b[0;34m'alert'\u001b[0m\u001b[0;34m]\u001b[0m\u001b[0;34m.\u001b[0m\u001b[0mget\u001b[0m\u001b[0;34m(\u001b[0m\u001b[0;34m'text'\u001b[0m\u001b[0;34m)\u001b[0m\u001b[0;34m\u001b[0m\u001b[0;34m\u001b[0m\u001b[0m\n\u001b[1;32m    241\u001b[0m             \u001b[0;32mraise\u001b[0m \u001b[0mexception_class\u001b[0m\u001b[0;34m(\u001b[0m\u001b[0mmessage\u001b[0m\u001b[0;34m,\u001b[0m \u001b[0mscreen\u001b[0m\u001b[0;34m,\u001b[0m \u001b[0mstacktrace\u001b[0m\u001b[0;34m,\u001b[0m \u001b[0malert_text\u001b[0m\u001b[0;34m)\u001b[0m\u001b[0;34m\u001b[0m\u001b[0;34m\u001b[0m\u001b[0m\n\u001b[0;32m--> 242\u001b[0;31m         \u001b[0;32mraise\u001b[0m \u001b[0mexception_class\u001b[0m\u001b[0;34m(\u001b[0m\u001b[0mmessage\u001b[0m\u001b[0;34m,\u001b[0m \u001b[0mscreen\u001b[0m\u001b[0;34m,\u001b[0m \u001b[0mstacktrace\u001b[0m\u001b[0;34m)\u001b[0m\u001b[0;34m\u001b[0m\u001b[0;34m\u001b[0m\u001b[0m\n\u001b[0m\u001b[1;32m    243\u001b[0m \u001b[0;34m\u001b[0m\u001b[0m\n\u001b[1;32m    244\u001b[0m     \u001b[0;32mdef\u001b[0m \u001b[0m_value_or_default\u001b[0m\u001b[0;34m(\u001b[0m\u001b[0mself\u001b[0m\u001b[0;34m,\u001b[0m \u001b[0mobj\u001b[0m\u001b[0;34m,\u001b[0m \u001b[0mkey\u001b[0m\u001b[0;34m,\u001b[0m \u001b[0mdefault\u001b[0m\u001b[0;34m)\u001b[0m\u001b[0;34m:\u001b[0m\u001b[0;34m\u001b[0m\u001b[0;34m\u001b[0m\u001b[0m\n",
      "\u001b[0;31mNoSuchElementException\u001b[0m: Message: no such element: Unable to locate element: {\"method\":\"partial link text\",\"selector\":\"Next page\"}\n  (Session info: chrome=88.0.4324.146)\n"
     ]
    }
   ],
   "source": [
    "for i in range(200):\n",
    "    for r in driver.find_elements_by_class_name(\"review\"):\n",
    "        title = r.find_element_by_class_name(\"review-title-content\").text\n",
    "        reviewDate = r.find_element_by_class_name(\"review-date\").text.split()\n",
    "        location = reviewDate[2]\n",
    "        date = ' '.join(reviewDate[-3:]) # change later\n",
    "        review = r.find_element_by_class_name(\"review-text\").text\n",
    "        rating = r.find_element_by_xpath('.//span[@class=\"a-icon-alt\"]').get_attribute('textContent')[0]\n",
    "\n",
    "        fields = [rating, title, review, location, date]\n",
    "        with open(r'review_raw.csv','a') as f:\n",
    "            writer = csv.writer(f)\n",
    "            writer.writerow(fields)\n",
    "                \n",
    "    driver.find_element_by_partial_link_text('Next page').click()\n",
    "    \n",
    "    time.sleep(3)"
   ]
  },
  {
   "cell_type": "code",
   "execution_count": 309,
   "metadata": {},
   "outputs": [],
   "source": [
    "driver.quit()"
   ]
  },
  {
   "cell_type": "markdown",
   "metadata": {},
   "source": [
    "## Oversampling to Balance the Data\n",
    "\n",
    "After collecting around 3,000 reviews, a value count of frequency by rating showed that the data is highly unbalanced, with a tendency to skew towards higher ratings. There are 1,773 five-star reviews, which made up 57% of all reviews. This is unsurprising since a positive review will attract more customers, who will leave more reviews.  And only products with abundant reviews were sampled.\n",
    "\n",
    "After around 3,000 reviews were collected, oversampling for star ratings below 5 is necessary to even out the sample. The least frequent star rating was 2. Many products were sampled solely to collect more 2-star ratings. \n",
    "\n",
    "On average, 1860 samples were collected for each rating.\n"
   ]
  },
  {
   "cell_type": "code",
   "execution_count": 346,
   "metadata": {
    "scrolled": true
   },
   "outputs": [
    {
     "data": {
      "text/plain": [
       "1    1973\n",
       "2    1848\n",
       "5    1846\n",
       "3    1827\n",
       "4    1805\n",
       "Name: 0, dtype: int64"
      ]
     },
     "execution_count": 346,
     "metadata": {},
     "output_type": "execute_result"
    }
   ],
   "source": [
    "df = pd.read_csv('review_raw.csv', header=None)\n",
    "df.iloc[:,0].value_counts()"
   ]
  },
  {
   "cell_type": "code",
   "execution_count": 8,
   "metadata": {},
   "outputs": [
    {
     "data": {
      "image/png": "[encoded data removed]",
      "text/plain": [
       "<Figure size 432x288 with 1 Axes>"
      ]
     },
     "metadata": {
      "needs_background": "light"
     },
     "output_type": "display_data"
    }
   ],
   "source": [
    "plt.figure()\n",
    "sns.countplot(x='0',data=df)\n",
    "plt.show()"
   ]
  },
  {
   "cell_type": "code",
   "execution_count": 347,
   "metadata": {},
   "outputs": [
    {
     "data": {
      "text/plain": [
       "(9299, 5)"
      ]
     },
     "execution_count": 347,
     "metadata": {},
     "output_type": "execute_result"
    }
   ],
   "source": [
    "df.shape"
   ]
  },
  {
   "cell_type": "code",
   "execution_count": 348,
   "metadata": {},
   "outputs": [
    {
     "name": "stdout",
     "output_type": "stream",
     "text": [
      "<class 'pandas.core.frame.DataFrame'>\n",
      "RangeIndex: 9299 entries, 0 to 9298\n",
      "Data columns (total 5 columns):\n",
      " #   Column  Non-Null Count  Dtype \n",
      "---  ------  --------------  ----- \n",
      " 0   0       9299 non-null   int64 \n",
      " 1   1       9293 non-null   object\n",
      " 2   2       9295 non-null   object\n",
      " 3   3       9299 non-null   object\n",
      " 4   4       9299 non-null   object\n",
      "dtypes: int64(1), object(4)\n",
      "memory usage: 363.4+ KB\n"
     ]
    }
   ],
   "source": [
    "df.info()"
   ]
  },
  {
   "cell_type": "code",
   "execution_count": 349,
   "metadata": {},
   "outputs": [
    {
     "data": {
      "text/html": [
       "<div>\n",
       "<style scoped>\n",
       "    .dataframe tbody tr th:only-of-type {\n",
       "        vertical-align: middle;\n",
       "    }\n",
       "\n",
       "    .dataframe tbody tr th {\n",
       "        vertical-align: top;\n",
       "    }\n",
       "\n",
       "    .dataframe thead th {\n",
       "        text-align: right;\n",
       "    }\n",
       "</style>\n",
       "<table border=\"1\" class=\"dataframe\">\n",
       "  <thead>\n",
       "    <tr style=\"text-align: right;\">\n",
       "      <th></th>\n",
       "      <th>0</th>\n",
       "      <th>1</th>\n",
       "      <th>2</th>\n",
       "      <th>3</th>\n",
       "      <th>4</th>\n",
       "    </tr>\n",
       "  </thead>\n",
       "  <tbody>\n",
       "    <tr>\n",
       "      <th>9294</th>\n",
       "      <td>2</td>\n",
       "      <td>Just okay.</td>\n",
       "      <td>Poor stitching work on both of the mask ordered.</td>\n",
       "      <td>the</td>\n",
       "      <td>May 23, 2020</td>\n",
       "    </tr>\n",
       "    <tr>\n",
       "      <th>9295</th>\n",
       "      <td>2</td>\n",
       "      <td>Disappointed</td>\n",
       "      <td>Waste of money</td>\n",
       "      <td>the</td>\n",
       "      <td>July 2, 2020</td>\n",
       "    </tr>\n",
       "    <tr>\n",
       "      <th>9296</th>\n",
       "      <td>2</td>\n",
       "      <td>Improvement required as ear loop should be adj...</td>\n",
       "      <td>Dislike.</td>\n",
       "      <td>the</td>\n",
       "      <td>July 22, 2020</td>\n",
       "    </tr>\n",
       "    <tr>\n",
       "      <th>9297</th>\n",
       "      <td>2</td>\n",
       "      <td>Nasenclip nicht entfernbar, trotz Angabe auf V...</td>\n",
       "      <td>Also generell wäre es eine tolle Maske. Aber i...</td>\n",
       "      <td>Germany</td>\n",
       "      <td>July 31, 2020</td>\n",
       "    </tr>\n",
       "    <tr>\n",
       "      <th>9298</th>\n",
       "      <td>2</td>\n",
       "      <td>Schlechter als jede Stoffmaske</td>\n",
       "      <td>Das beste zuerst. Es ist eine Maske. Für den P...</td>\n",
       "      <td>Germany</td>\n",
       "      <td>October 4, 2020</td>\n",
       "    </tr>\n",
       "  </tbody>\n",
       "</table>\n",
       "</div>"
      ],
      "text/plain": [
       "      0                                                  1  \\\n",
       "9294  2                                         Just okay.   \n",
       "9295  2                                       Disappointed   \n",
       "9296  2  Improvement required as ear loop should be adj...   \n",
       "9297  2  Nasenclip nicht entfernbar, trotz Angabe auf V...   \n",
       "9298  2                     Schlechter als jede Stoffmaske   \n",
       "\n",
       "                                                      2        3  \\\n",
       "9294   Poor stitching work on both of the mask ordered.      the   \n",
       "9295                                     Waste of money      the   \n",
       "9296                                           Dislike.      the   \n",
       "9297  Also generell wäre es eine tolle Maske. Aber i...  Germany   \n",
       "9298  Das beste zuerst. Es ist eine Maske. Für den P...  Germany   \n",
       "\n",
       "                    4  \n",
       "9294     May 23, 2020  \n",
       "9295     July 2, 2020  \n",
       "9296    July 22, 2020  \n",
       "9297    July 31, 2020  \n",
       "9298  October 4, 2020  "
      ]
     },
     "execution_count": 349,
     "metadata": {},
     "output_type": "execute_result"
    }
   ],
   "source": [
    "df.tail()"
   ]
  },
  {
   "cell_type": "markdown",
   "metadata": {},
   "source": [
    "## Saving the Data"
   ]
  },
  {
   "cell_type": "code",
   "execution_count": 27,
   "metadata": {},
   "outputs": [],
   "source": [
    "df.to_csv(r'data/raw.csv', index=False)"
   ]
  }
 ],
 "metadata": {
  "kernelspec": {
   "display_name": "Python 3",
   "language": "python",
   "name": "python3"
  },
  "language_info": {
   "codemirror_mode": {
    "name": "ipython",
    "version": 3
   },
   "file_extension": ".py",
   "mimetype": "text/x-python",
   "name": "python",
   "nbconvert_exporter": "python",
   "pygments_lexer": "ipython3",
   "version": "3.8.2"
  }
 },
 "nbformat": 4,
 "nbformat_minor": 4
}
