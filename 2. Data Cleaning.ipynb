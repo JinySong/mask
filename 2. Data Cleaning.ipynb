{
 "cells": [
  {
   "cell_type": "markdown",
   "metadata": {},
   "source": [
    "#  Data Cleaning\n",
    "\n",
    "Some mistakes were made during the scraping process due to the variation in data format. Some were caught early and fixed for subsequent scraping tasks.\n",
    "\n",
    "The two types of mistakes are:\n",
    "1. Country \n",
    "2. Date\n",
    "\n",
    "The country column was expected to be a single word. However, United States was 'the United States'. I changed the data so that 'the' became 'US' in the country column.\n",
    "\n",
    "The date value is in a human-readable format. For example, May 23, 2020 was used instead of 05-23-2020. This is fixed with pandas' to_datetime function.\n",
    "\n",
    "Since 'country' and 'date' were scraped from the same sentence, samples that had 'the United States' also had two extra characters attached to the date, which threw an error when using the to_datetime function. The data was split, sliced, and rejoined together before the to_datetime function."
   ]
  },
  {
   "cell_type": "markdown",
   "metadata": {},
   "source": [
    "## Imports"
   ]
  },
  {
   "cell_type": "code",
   "execution_count": 4,
   "metadata": {},
   "outputs": [],
   "source": [
    "import pandas as pd\n",
    "import seaborn as sns\n",
    "import matplotlib.pyplot as plt\n",
    "import numpy as np\n",
    "import csv"
   ]
  },
  {
   "cell_type": "code",
   "execution_count": 14,
   "metadata": {},
   "outputs": [],
   "source": [
    "df = pd.read_csv('data/raw.csv')"
   ]
  },
  {
   "cell_type": "code",
   "execution_count": 15,
   "metadata": {},
   "outputs": [
    {
     "data": {
      "text/html": [
       "<div>\n",
       "<style scoped>\n",
       "    .dataframe tbody tr th:only-of-type {\n",
       "        vertical-align: middle;\n",
       "    }\n",
       "\n",
       "    .dataframe tbody tr th {\n",
       "        vertical-align: top;\n",
       "    }\n",
       "\n",
       "    .dataframe thead th {\n",
       "        text-align: right;\n",
       "    }\n",
       "</style>\n",
       "<table border=\"1\" class=\"dataframe\">\n",
       "  <thead>\n",
       "    <tr style=\"text-align: right;\">\n",
       "      <th></th>\n",
       "      <th>0</th>\n",
       "      <th>1</th>\n",
       "      <th>2</th>\n",
       "      <th>3</th>\n",
       "      <th>4</th>\n",
       "    </tr>\n",
       "  </thead>\n",
       "  <tbody>\n",
       "    <tr>\n",
       "      <th>0</th>\n",
       "      <td>3</td>\n",
       "      <td>Pricy for it’s quality</td>\n",
       "      <td>Giving four stars because the inner layer is j...</td>\n",
       "      <td>Canada</td>\n",
       "      <td>June 4, 2020</td>\n",
       "    </tr>\n",
       "    <tr>\n",
       "      <th>1</th>\n",
       "      <td>3</td>\n",
       "      <td>They fit small</td>\n",
       "      <td>The fabric, elastic &amp; overall quality is great...</td>\n",
       "      <td>Canada</td>\n",
       "      <td>June 27, 2020</td>\n",
       "    </tr>\n",
       "    <tr>\n",
       "      <th>2</th>\n",
       "      <td>4</td>\n",
       "      <td>Needs filters that aren't included!</td>\n",
       "      <td>Most of the reason I ordered this is because I...</td>\n",
       "      <td>Canada</td>\n",
       "      <td>June 11, 2020</td>\n",
       "    </tr>\n",
       "    <tr>\n",
       "      <th>3</th>\n",
       "      <td>4</td>\n",
       "      <td>fast delivery &amp; comfortable</td>\n",
       "      <td>i recieved the wrong colour but it saves me fr...</td>\n",
       "      <td>Canada</td>\n",
       "      <td>May 20, 2020</td>\n",
       "    </tr>\n",
       "    <tr>\n",
       "      <th>4</th>\n",
       "      <td>4</td>\n",
       "      <td>Comfortable with customizable adjustment</td>\n",
       "      <td>I bought 4 of these and will possibly purchase...</td>\n",
       "      <td>Canada</td>\n",
       "      <td>June 23, 2020</td>\n",
       "    </tr>\n",
       "  </tbody>\n",
       "</table>\n",
       "</div>"
      ],
      "text/plain": [
       "   0                                         1  \\\n",
       "0  3                    Pricy for it’s quality   \n",
       "1  3                            They fit small   \n",
       "2  4       Needs filters that aren't included!   \n",
       "3  4               fast delivery & comfortable   \n",
       "4  4  Comfortable with customizable adjustment   \n",
       "\n",
       "                                                   2       3              4  \n",
       "0  Giving four stars because the inner layer is j...  Canada   June 4, 2020  \n",
       "1  The fabric, elastic & overall quality is great...  Canada  June 27, 2020  \n",
       "2  Most of the reason I ordered this is because I...  Canada  June 11, 2020  \n",
       "3  i recieved the wrong colour but it saves me fr...  Canada   May 20, 2020  \n",
       "4  I bought 4 of these and will possibly purchase...  Canada  June 23, 2020  "
      ]
     },
     "execution_count": 15,
     "metadata": {},
     "output_type": "execute_result"
    }
   ],
   "source": [
    "df.head()"
   ]
  },
  {
   "cell_type": "code",
   "execution_count": 16,
   "metadata": {},
   "outputs": [
    {
     "data": {
      "text/plain": [
       "the          5528\n",
       "Canada       3614\n",
       "France         62\n",
       "Italy          49\n",
       "Germany        37\n",
       "Japan           6\n",
       "Australia       2\n",
       "Mexico          1\n",
       "Name: 3, dtype: int64"
      ]
     },
     "execution_count": 16,
     "metadata": {},
     "output_type": "execute_result"
    }
   ],
   "source": [
    "df.iloc[:,3].value_counts()"
   ]
  },
  {
   "cell_type": "code",
   "execution_count": 19,
   "metadata": {},
   "outputs": [],
   "source": [
    "# replacing 'the' with 'US' in the location column\n",
    "df.loc[df['3'] == 'the','3'] = 'US'"
   ]
  },
  {
   "cell_type": "code",
   "execution_count": 20,
   "metadata": {
    "scrolled": true
   },
   "outputs": [
    {
     "data": {
      "text/html": [
       "<div>\n",
       "<style scoped>\n",
       "    .dataframe tbody tr th:only-of-type {\n",
       "        vertical-align: middle;\n",
       "    }\n",
       "\n",
       "    .dataframe tbody tr th {\n",
       "        vertical-align: top;\n",
       "    }\n",
       "\n",
       "    .dataframe thead th {\n",
       "        text-align: right;\n",
       "    }\n",
       "</style>\n",
       "<table border=\"1\" class=\"dataframe\">\n",
       "  <thead>\n",
       "    <tr style=\"text-align: right;\">\n",
       "      <th></th>\n",
       "      <th>0</th>\n",
       "      <th>1</th>\n",
       "      <th>2</th>\n",
       "      <th>3</th>\n",
       "      <th>4</th>\n",
       "    </tr>\n",
       "  </thead>\n",
       "  <tbody>\n",
       "    <tr>\n",
       "      <th>9294</th>\n",
       "      <td>2</td>\n",
       "      <td>Just okay.</td>\n",
       "      <td>Poor stitching work on both of the mask ordered.</td>\n",
       "      <td>US</td>\n",
       "      <td>May 23, 2020</td>\n",
       "    </tr>\n",
       "    <tr>\n",
       "      <th>9295</th>\n",
       "      <td>2</td>\n",
       "      <td>Disappointed</td>\n",
       "      <td>Waste of money</td>\n",
       "      <td>US</td>\n",
       "      <td>July 2, 2020</td>\n",
       "    </tr>\n",
       "    <tr>\n",
       "      <th>9296</th>\n",
       "      <td>2</td>\n",
       "      <td>Improvement required as ear loop should be adj...</td>\n",
       "      <td>Dislike.</td>\n",
       "      <td>US</td>\n",
       "      <td>July 22, 2020</td>\n",
       "    </tr>\n",
       "    <tr>\n",
       "      <th>9297</th>\n",
       "      <td>2</td>\n",
       "      <td>Nasenclip nicht entfernbar, trotz Angabe auf V...</td>\n",
       "      <td>Also generell wäre es eine tolle Maske. Aber i...</td>\n",
       "      <td>Germany</td>\n",
       "      <td>July 31, 2020</td>\n",
       "    </tr>\n",
       "    <tr>\n",
       "      <th>9298</th>\n",
       "      <td>2</td>\n",
       "      <td>Schlechter als jede Stoffmaske</td>\n",
       "      <td>Das beste zuerst. Es ist eine Maske. Für den P...</td>\n",
       "      <td>Germany</td>\n",
       "      <td>October 4, 2020</td>\n",
       "    </tr>\n",
       "  </tbody>\n",
       "</table>\n",
       "</div>"
      ],
      "text/plain": [
       "      0                                                  1  \\\n",
       "9294  2                                         Just okay.   \n",
       "9295  2                                       Disappointed   \n",
       "9296  2  Improvement required as ear loop should be adj...   \n",
       "9297  2  Nasenclip nicht entfernbar, trotz Angabe auf V...   \n",
       "9298  2                     Schlechter als jede Stoffmaske   \n",
       "\n",
       "                                                      2        3  \\\n",
       "9294   Poor stitching work on both of the mask ordered.       US   \n",
       "9295                                     Waste of money       US   \n",
       "9296                                           Dislike.       US   \n",
       "9297  Also generell wäre es eine tolle Maske. Aber i...  Germany   \n",
       "9298  Das beste zuerst. Es ist eine Maske. Für den P...  Germany   \n",
       "\n",
       "                    4  \n",
       "9294     May 23, 2020  \n",
       "9295     July 2, 2020  \n",
       "9296    July 22, 2020  \n",
       "9297    July 31, 2020  \n",
       "9298  October 4, 2020  "
      ]
     },
     "execution_count": 20,
     "metadata": {},
     "output_type": "execute_result"
    }
   ],
   "source": [
    "df.tail()"
   ]
  },
  {
   "cell_type": "code",
   "execution_count": 21,
   "metadata": {
    "scrolled": false
   },
   "outputs": [
    {
     "data": {
      "text/plain": [
       "US           5528\n",
       "Canada       3614\n",
       "France         62\n",
       "Italy          49\n",
       "Germany        37\n",
       "Japan           6\n",
       "Australia       2\n",
       "Mexico          1\n",
       "Name: 3, dtype: int64"
      ]
     },
     "execution_count": 21,
     "metadata": {},
     "output_type": "execute_result"
    }
   ],
   "source": [
    "df.iloc[:,3].value_counts()"
   ]
  },
  {
   "cell_type": "code",
   "execution_count": 23,
   "metadata": {},
   "outputs": [],
   "source": [
    "df['4'] = df['4'].apply(lambda x: \" \".join(x.split()[-3:]))"
   ]
  },
  {
   "cell_type": "code",
   "execution_count": 24,
   "metadata": {
    "scrolled": true
   },
   "outputs": [
    {
     "data": {
      "text/plain": [
       "December 6, 2020     73\n",
       "August 12, 2020      69\n",
       "August 9, 2020       68\n",
       "September 4, 2020    67\n",
       "December 4, 2020     63\n",
       "                     ..\n",
       "January 30, 2020      1\n",
       "May 29, 2020          1\n",
       "January 7, 2020       1\n",
       "May 23, 2020          1\n",
       "May 20, 2020          1\n",
       "Name: 4, Length: 262, dtype: int64"
      ]
     },
     "execution_count": 24,
     "metadata": {},
     "output_type": "execute_result"
    }
   ],
   "source": [
    "df.iloc[:,4].value_counts()"
   ]
  },
  {
   "cell_type": "code",
   "execution_count": 25,
   "metadata": {},
   "outputs": [],
   "source": [
    "df['4'] = pd.to_datetime(df['4'])"
   ]
  },
  {
   "cell_type": "code",
   "execution_count": 26,
   "metadata": {
    "scrolled": true
   },
   "outputs": [
    {
     "data": {
      "text/plain": [
       "2020-12-06    73\n",
       "2020-08-12    69\n",
       "2020-08-09    68\n",
       "2020-09-04    67\n",
       "2020-12-04    63\n",
       "              ..\n",
       "2020-02-25     1\n",
       "2020-05-31     1\n",
       "2020-05-26     1\n",
       "2020-01-07     1\n",
       "2020-05-17     1\n",
       "Name: 4, Length: 262, dtype: int64"
      ]
     },
     "execution_count": 26,
     "metadata": {},
     "output_type": "execute_result"
    }
   ],
   "source": [
    "df.iloc[:,4].value_counts()"
   ]
  },
  {
   "cell_type": "markdown",
   "metadata": {},
   "source": [
    "## Missing Values"
   ]
  },
  {
   "cell_type": "markdown",
   "metadata": {},
   "source": [
    "First, I checked the number of null values in each column. There are only a handful of NaN values in the review title and review text columns. Rating, location, and date do not contain null values, as expected since a rating is required and location and time are stamped automatically.\n",
    "\n",
    "The simplest way was to remove them altogether, but I noticed some columns contained valid reviews. Therefore, I removed only the rows with both empty review titles and review texts (i.e. only a star rating is given). There is one sample where the customer wrote 'n/a' in the review text and I removed that as well. For the rest, I replaced NaN with an empty string."
   ]
  },
  {
   "cell_type": "code",
   "execution_count": 27,
   "metadata": {},
   "outputs": [
    {
     "data": {
      "text/plain": [
       "0    0\n",
       "1    6\n",
       "2    4\n",
       "3    0\n",
       "4    0\n",
       "dtype: int64"
      ]
     },
     "execution_count": 27,
     "metadata": {},
     "output_type": "execute_result"
    }
   ],
   "source": [
    "df.isnull().sum()"
   ]
  },
  {
   "cell_type": "code",
   "execution_count": 28,
   "metadata": {},
   "outputs": [
    {
     "data": {
      "text/html": [
       "<div>\n",
       "<style scoped>\n",
       "    .dataframe tbody tr th:only-of-type {\n",
       "        vertical-align: middle;\n",
       "    }\n",
       "\n",
       "    .dataframe tbody tr th {\n",
       "        vertical-align: top;\n",
       "    }\n",
       "\n",
       "    .dataframe thead th {\n",
       "        text-align: right;\n",
       "    }\n",
       "</style>\n",
       "<table border=\"1\" class=\"dataframe\">\n",
       "  <thead>\n",
       "    <tr style=\"text-align: right;\">\n",
       "      <th></th>\n",
       "      <th>0</th>\n",
       "      <th>1</th>\n",
       "      <th>2</th>\n",
       "      <th>3</th>\n",
       "      <th>4</th>\n",
       "    </tr>\n",
       "  </thead>\n",
       "  <tbody>\n",
       "    <tr>\n",
       "      <th>2643</th>\n",
       "      <td>5</td>\n",
       "      <td>NaN</td>\n",
       "      <td>It's quite comfortable, however, the loop stri...</td>\n",
       "      <td>Canada</td>\n",
       "      <td>2021-02-01</td>\n",
       "    </tr>\n",
       "    <tr>\n",
       "      <th>2694</th>\n",
       "      <td>5</td>\n",
       "      <td>NaN</td>\n",
       "      <td>NaN</td>\n",
       "      <td>Canada</td>\n",
       "      <td>2020-10-04</td>\n",
       "    </tr>\n",
       "    <tr>\n",
       "      <th>3647</th>\n",
       "      <td>1</td>\n",
       "      <td>NaN</td>\n",
       "      <td>NaN</td>\n",
       "      <td>Canada</td>\n",
       "      <td>2021-01-13</td>\n",
       "    </tr>\n",
       "    <tr>\n",
       "      <th>6209</th>\n",
       "      <td>4</td>\n",
       "      <td>NaN</td>\n",
       "      <td>N/a</td>\n",
       "      <td>US</td>\n",
       "      <td>2020-07-22</td>\n",
       "    </tr>\n",
       "    <tr>\n",
       "      <th>6792</th>\n",
       "      <td>3</td>\n",
       "      <td>NaN</td>\n",
       "      <td>Dislike, I use for work but too small for me</td>\n",
       "      <td>Canada</td>\n",
       "      <td>2020-10-16</td>\n",
       "    </tr>\n",
       "    <tr>\n",
       "      <th>7711</th>\n",
       "      <td>1</td>\n",
       "      <td>NaN</td>\n",
       "      <td>NaN</td>\n",
       "      <td>Canada</td>\n",
       "      <td>2021-01-13</td>\n",
       "    </tr>\n",
       "  </tbody>\n",
       "</table>\n",
       "</div>"
      ],
      "text/plain": [
       "      0    1                                                  2       3  \\\n",
       "2643  5  NaN  It's quite comfortable, however, the loop stri...  Canada   \n",
       "2694  5  NaN                                                NaN  Canada   \n",
       "3647  1  NaN                                                NaN  Canada   \n",
       "6209  4  NaN                                                N/a      US   \n",
       "6792  3  NaN       Dislike, I use for work but too small for me  Canada   \n",
       "7711  1  NaN                                                NaN  Canada   \n",
       "\n",
       "              4  \n",
       "2643 2021-02-01  \n",
       "2694 2020-10-04  \n",
       "3647 2021-01-13  \n",
       "6209 2020-07-22  \n",
       "6792 2020-10-16  \n",
       "7711 2021-01-13  "
      ]
     },
     "execution_count": 28,
     "metadata": {},
     "output_type": "execute_result"
    }
   ],
   "source": [
    "df[df['1'].isnull()]"
   ]
  },
  {
   "cell_type": "code",
   "execution_count": 29,
   "metadata": {},
   "outputs": [
    {
     "data": {
      "text/html": [
       "<div>\n",
       "<style scoped>\n",
       "    .dataframe tbody tr th:only-of-type {\n",
       "        vertical-align: middle;\n",
       "    }\n",
       "\n",
       "    .dataframe tbody tr th {\n",
       "        vertical-align: top;\n",
       "    }\n",
       "\n",
       "    .dataframe thead th {\n",
       "        text-align: right;\n",
       "    }\n",
       "</style>\n",
       "<table border=\"1\" class=\"dataframe\">\n",
       "  <thead>\n",
       "    <tr style=\"text-align: right;\">\n",
       "      <th></th>\n",
       "      <th>0</th>\n",
       "      <th>1</th>\n",
       "      <th>2</th>\n",
       "      <th>3</th>\n",
       "      <th>4</th>\n",
       "    </tr>\n",
       "  </thead>\n",
       "  <tbody>\n",
       "    <tr>\n",
       "      <th>2694</th>\n",
       "      <td>5</td>\n",
       "      <td>NaN</td>\n",
       "      <td>NaN</td>\n",
       "      <td>Canada</td>\n",
       "      <td>2020-10-04</td>\n",
       "    </tr>\n",
       "    <tr>\n",
       "      <th>2797</th>\n",
       "      <td>5</td>\n",
       "      <td>Convenient</td>\n",
       "      <td>NaN</td>\n",
       "      <td>Canada</td>\n",
       "      <td>2020-08-11</td>\n",
       "    </tr>\n",
       "    <tr>\n",
       "      <th>3647</th>\n",
       "      <td>1</td>\n",
       "      <td>NaN</td>\n",
       "      <td>NaN</td>\n",
       "      <td>Canada</td>\n",
       "      <td>2021-01-13</td>\n",
       "    </tr>\n",
       "    <tr>\n",
       "      <th>7711</th>\n",
       "      <td>1</td>\n",
       "      <td>NaN</td>\n",
       "      <td>NaN</td>\n",
       "      <td>Canada</td>\n",
       "      <td>2021-01-13</td>\n",
       "    </tr>\n",
       "  </tbody>\n",
       "</table>\n",
       "</div>"
      ],
      "text/plain": [
       "      0           1    2       3          4\n",
       "2694  5         NaN  NaN  Canada 2020-10-04\n",
       "2797  5  Convenient  NaN  Canada 2020-08-11\n",
       "3647  1         NaN  NaN  Canada 2021-01-13\n",
       "7711  1         NaN  NaN  Canada 2021-01-13"
      ]
     },
     "execution_count": 29,
     "metadata": {},
     "output_type": "execute_result"
    }
   ],
   "source": [
    "df[df['2'].isnull()]"
   ]
  },
  {
   "cell_type": "code",
   "execution_count": 30,
   "metadata": {},
   "outputs": [],
   "source": [
    "df.dropna(subset=['1','2'], how='all', inplace=True) "
   ]
  },
  {
   "cell_type": "code",
   "execution_count": 31,
   "metadata": {},
   "outputs": [
    {
     "data": {
      "text/html": [
       "<div>\n",
       "<style scoped>\n",
       "    .dataframe tbody tr th:only-of-type {\n",
       "        vertical-align: middle;\n",
       "    }\n",
       "\n",
       "    .dataframe tbody tr th {\n",
       "        vertical-align: top;\n",
       "    }\n",
       "\n",
       "    .dataframe thead th {\n",
       "        text-align: right;\n",
       "    }\n",
       "</style>\n",
       "<table border=\"1\" class=\"dataframe\">\n",
       "  <thead>\n",
       "    <tr style=\"text-align: right;\">\n",
       "      <th></th>\n",
       "      <th>0</th>\n",
       "      <th>1</th>\n",
       "      <th>2</th>\n",
       "      <th>3</th>\n",
       "      <th>4</th>\n",
       "    </tr>\n",
       "  </thead>\n",
       "  <tbody>\n",
       "    <tr>\n",
       "      <th>2643</th>\n",
       "      <td>5</td>\n",
       "      <td>NaN</td>\n",
       "      <td>It's quite comfortable, however, the loop stri...</td>\n",
       "      <td>Canada</td>\n",
       "      <td>2021-02-01</td>\n",
       "    </tr>\n",
       "    <tr>\n",
       "      <th>6209</th>\n",
       "      <td>4</td>\n",
       "      <td>NaN</td>\n",
       "      <td>N/a</td>\n",
       "      <td>US</td>\n",
       "      <td>2020-07-22</td>\n",
       "    </tr>\n",
       "    <tr>\n",
       "      <th>6792</th>\n",
       "      <td>3</td>\n",
       "      <td>NaN</td>\n",
       "      <td>Dislike, I use for work but too small for me</td>\n",
       "      <td>Canada</td>\n",
       "      <td>2020-10-16</td>\n",
       "    </tr>\n",
       "  </tbody>\n",
       "</table>\n",
       "</div>"
      ],
      "text/plain": [
       "      0    1                                                  2       3  \\\n",
       "2643  5  NaN  It's quite comfortable, however, the loop stri...  Canada   \n",
       "6209  4  NaN                                                N/a      US   \n",
       "6792  3  NaN       Dislike, I use for work but too small for me  Canada   \n",
       "\n",
       "              4  \n",
       "2643 2021-02-01  \n",
       "6209 2020-07-22  \n",
       "6792 2020-10-16  "
      ]
     },
     "execution_count": 31,
     "metadata": {},
     "output_type": "execute_result"
    }
   ],
   "source": [
    "df[df['1'].isnull()]"
   ]
  },
  {
   "cell_type": "code",
   "execution_count": 32,
   "metadata": {},
   "outputs": [
    {
     "data": {
      "text/html": [
       "<div>\n",
       "<style scoped>\n",
       "    .dataframe tbody tr th:only-of-type {\n",
       "        vertical-align: middle;\n",
       "    }\n",
       "\n",
       "    .dataframe tbody tr th {\n",
       "        vertical-align: top;\n",
       "    }\n",
       "\n",
       "    .dataframe thead th {\n",
       "        text-align: right;\n",
       "    }\n",
       "</style>\n",
       "<table border=\"1\" class=\"dataframe\">\n",
       "  <thead>\n",
       "    <tr style=\"text-align: right;\">\n",
       "      <th></th>\n",
       "      <th>0</th>\n",
       "      <th>1</th>\n",
       "      <th>2</th>\n",
       "      <th>3</th>\n",
       "      <th>4</th>\n",
       "    </tr>\n",
       "  </thead>\n",
       "  <tbody>\n",
       "    <tr>\n",
       "      <th>2797</th>\n",
       "      <td>5</td>\n",
       "      <td>Convenient</td>\n",
       "      <td>NaN</td>\n",
       "      <td>Canada</td>\n",
       "      <td>2020-08-11</td>\n",
       "    </tr>\n",
       "  </tbody>\n",
       "</table>\n",
       "</div>"
      ],
      "text/plain": [
       "      0           1    2       3          4\n",
       "2797  5  Convenient  NaN  Canada 2020-08-11"
      ]
     },
     "execution_count": 32,
     "metadata": {},
     "output_type": "execute_result"
    }
   ],
   "source": [
    "df[df['2'].isnull()]"
   ]
  },
  {
   "cell_type": "code",
   "execution_count": 33,
   "metadata": {},
   "outputs": [],
   "source": [
    "df.drop(6209, inplace = True)"
   ]
  },
  {
   "cell_type": "code",
   "execution_count": 34,
   "metadata": {},
   "outputs": [
    {
     "data": {
      "text/html": [
       "<div>\n",
       "<style scoped>\n",
       "    .dataframe tbody tr th:only-of-type {\n",
       "        vertical-align: middle;\n",
       "    }\n",
       "\n",
       "    .dataframe tbody tr th {\n",
       "        vertical-align: top;\n",
       "    }\n",
       "\n",
       "    .dataframe thead th {\n",
       "        text-align: right;\n",
       "    }\n",
       "</style>\n",
       "<table border=\"1\" class=\"dataframe\">\n",
       "  <thead>\n",
       "    <tr style=\"text-align: right;\">\n",
       "      <th></th>\n",
       "      <th>0</th>\n",
       "      <th>1</th>\n",
       "      <th>2</th>\n",
       "      <th>3</th>\n",
       "      <th>4</th>\n",
       "    </tr>\n",
       "  </thead>\n",
       "  <tbody>\n",
       "    <tr>\n",
       "      <th>2643</th>\n",
       "      <td>5</td>\n",
       "      <td>NaN</td>\n",
       "      <td>It's quite comfortable, however, the loop stri...</td>\n",
       "      <td>Canada</td>\n",
       "      <td>2021-02-01</td>\n",
       "    </tr>\n",
       "    <tr>\n",
       "      <th>6792</th>\n",
       "      <td>3</td>\n",
       "      <td>NaN</td>\n",
       "      <td>Dislike, I use for work but too small for me</td>\n",
       "      <td>Canada</td>\n",
       "      <td>2020-10-16</td>\n",
       "    </tr>\n",
       "  </tbody>\n",
       "</table>\n",
       "</div>"
      ],
      "text/plain": [
       "      0    1                                                  2       3  \\\n",
       "2643  5  NaN  It's quite comfortable, however, the loop stri...  Canada   \n",
       "6792  3  NaN       Dislike, I use for work but too small for me  Canada   \n",
       "\n",
       "              4  \n",
       "2643 2021-02-01  \n",
       "6792 2020-10-16  "
      ]
     },
     "execution_count": 34,
     "metadata": {},
     "output_type": "execute_result"
    }
   ],
   "source": [
    "df[df['1'].isnull()]"
   ]
  },
  {
   "cell_type": "code",
   "execution_count": 35,
   "metadata": {},
   "outputs": [],
   "source": [
    "df.replace(np.nan, '' , inplace=True)\n",
    "# df.fillna('', inplace=True) works as well"
   ]
  },
  {
   "cell_type": "code",
   "execution_count": 36,
   "metadata": {
    "scrolled": false
   },
   "outputs": [
    {
     "data": {
      "text/plain": [
       "0    0\n",
       "1    0\n",
       "2    0\n",
       "3    0\n",
       "4    0\n",
       "dtype: int64"
      ]
     },
     "execution_count": 36,
     "metadata": {},
     "output_type": "execute_result"
    }
   ],
   "source": [
    "df.isnull().sum()"
   ]
  },
  {
   "cell_type": "markdown",
   "metadata": {},
   "source": [
    "## Rename the Columns"
   ]
  },
  {
   "cell_type": "code",
   "execution_count": 37,
   "metadata": {},
   "outputs": [],
   "source": [
    "df = df.rename(columns={'0': 'rating', \\\n",
    "                        '1':'title', \\\n",
    "                        '2':'review', \\\n",
    "                        '3': 'country', \\\n",
    "                        '4': 'date'\n",
    "                       })\n"
   ]
  },
  {
   "cell_type": "code",
   "execution_count": 38,
   "metadata": {},
   "outputs": [
    {
     "data": {
      "text/html": [
       "<div>\n",
       "<style scoped>\n",
       "    .dataframe tbody tr th:only-of-type {\n",
       "        vertical-align: middle;\n",
       "    }\n",
       "\n",
       "    .dataframe tbody tr th {\n",
       "        vertical-align: top;\n",
       "    }\n",
       "\n",
       "    .dataframe thead th {\n",
       "        text-align: right;\n",
       "    }\n",
       "</style>\n",
       "<table border=\"1\" class=\"dataframe\">\n",
       "  <thead>\n",
       "    <tr style=\"text-align: right;\">\n",
       "      <th></th>\n",
       "      <th>rating</th>\n",
       "      <th>title</th>\n",
       "      <th>review</th>\n",
       "      <th>country</th>\n",
       "      <th>date</th>\n",
       "    </tr>\n",
       "  </thead>\n",
       "  <tbody>\n",
       "    <tr>\n",
       "      <th>0</th>\n",
       "      <td>3</td>\n",
       "      <td>Pricy for it’s quality</td>\n",
       "      <td>Giving four stars because the inner layer is j...</td>\n",
       "      <td>Canada</td>\n",
       "      <td>2020-06-04</td>\n",
       "    </tr>\n",
       "    <tr>\n",
       "      <th>1</th>\n",
       "      <td>3</td>\n",
       "      <td>They fit small</td>\n",
       "      <td>The fabric, elastic &amp; overall quality is great...</td>\n",
       "      <td>Canada</td>\n",
       "      <td>2020-06-27</td>\n",
       "    </tr>\n",
       "    <tr>\n",
       "      <th>2</th>\n",
       "      <td>4</td>\n",
       "      <td>Needs filters that aren't included!</td>\n",
       "      <td>Most of the reason I ordered this is because I...</td>\n",
       "      <td>Canada</td>\n",
       "      <td>2020-06-11</td>\n",
       "    </tr>\n",
       "    <tr>\n",
       "      <th>3</th>\n",
       "      <td>4</td>\n",
       "      <td>fast delivery &amp; comfortable</td>\n",
       "      <td>i recieved the wrong colour but it saves me fr...</td>\n",
       "      <td>Canada</td>\n",
       "      <td>2020-05-20</td>\n",
       "    </tr>\n",
       "    <tr>\n",
       "      <th>4</th>\n",
       "      <td>4</td>\n",
       "      <td>Comfortable with customizable adjustment</td>\n",
       "      <td>I bought 4 of these and will possibly purchase...</td>\n",
       "      <td>Canada</td>\n",
       "      <td>2020-06-23</td>\n",
       "    </tr>\n",
       "  </tbody>\n",
       "</table>\n",
       "</div>"
      ],
      "text/plain": [
       "   rating                                     title  \\\n",
       "0       3                    Pricy for it’s quality   \n",
       "1       3                            They fit small   \n",
       "2       4       Needs filters that aren't included!   \n",
       "3       4               fast delivery & comfortable   \n",
       "4       4  Comfortable with customizable adjustment   \n",
       "\n",
       "                                              review country       date  \n",
       "0  Giving four stars because the inner layer is j...  Canada 2020-06-04  \n",
       "1  The fabric, elastic & overall quality is great...  Canada 2020-06-27  \n",
       "2  Most of the reason I ordered this is because I...  Canada 2020-06-11  \n",
       "3  i recieved the wrong colour but it saves me fr...  Canada 2020-05-20  \n",
       "4  I bought 4 of these and will possibly purchase...  Canada 2020-06-23  "
      ]
     },
     "execution_count": 38,
     "metadata": {},
     "output_type": "execute_result"
    }
   ],
   "source": [
    "df.head()"
   ]
  },
  {
   "cell_type": "markdown",
   "metadata": {},
   "source": [
    "# Saving the Cleaned Data"
   ]
  },
  {
   "cell_type": "code",
   "execution_count": 39,
   "metadata": {},
   "outputs": [],
   "source": [
    "df.to_csv(r'data/cleaned.csv', index=False)"
   ]
  }
 ],
 "metadata": {
  "kernelspec": {
   "display_name": "Python 3",
   "language": "python",
   "name": "python3"
  },
  "language_info": {
   "codemirror_mode": {
    "name": "ipython",
    "version": 3
   },
   "file_extension": ".py",
   "mimetype": "text/x-python",
   "name": "python",
   "nbconvert_exporter": "python",
   "pygments_lexer": "ipython3",
   "version": "3.8.2"
  }
 },
 "nbformat": 4,
 "nbformat_minor": 4
}
